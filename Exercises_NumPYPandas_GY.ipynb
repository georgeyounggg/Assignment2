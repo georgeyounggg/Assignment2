{
 "cells": [
  {
   "cell_type": "markdown",
   "id": "22251e58-78c4-44bf-b39e-a3e7619120ee",
   "metadata": {},
   "source": [
    "# Python for Spatial Analysis\n",
    "## Second part of the module of GG3209 Spatial Analysis with GIS.\n",
    "### Notebook to practice NumPy and Pandas - Exercises\n",
    "\n",
    "---\n",
    "Dr Fernando Benitez -  University of St Andrews - School of Geography and Sustainable Development - Third Iteration 2024.1 "
   ]
  },
  {
   "cell_type": "code",
   "execution_count": 1,
   "id": "dcf25284",
   "metadata": {},
   "outputs": [],
   "source": [
    "#pip install nbconvert pip install pyppeteer"
   ]
  },
  {
   "cell_type": "code",
   "execution_count": 2,
   "id": "297b4013",
   "metadata": {},
   "outputs": [],
   "source": [
    "#--allow-chromium-download"
   ]
  },
  {
   "cell_type": "markdown",
   "id": "eaf0b951",
   "metadata": {},
   "source": [
    "# Practicing NumPy"
   ]
  },
  {
   "cell_type": "markdown",
   "id": "36aaf97a",
   "metadata": {},
   "source": [
    "## 2.0 \n",
    "Import numpy under the alias `np`."
   ]
  },
  {
   "cell_type": "code",
   "execution_count": 3,
   "id": "51aa53cd",
   "metadata": {},
   "outputs": [],
   "source": [
    "import numpy as np"
   ]
  },
  {
   "cell_type": "markdown",
   "id": "10df0fb9",
   "metadata": {},
   "source": [
    "## 2.1 \n",
    "\n",
    "Create the following arrays:\n",
    "\n",
    "* Create an array of 10 ones.\n",
    "\n",
    "* Create an array of the integers 1 to 20.\n",
    "\n",
    "* Create a 5 x 5 matrix of ones with a dtype int."
   ]
  },
  {
   "cell_type": "code",
   "execution_count": 4,
   "id": "5a1b83d1",
   "metadata": {},
   "outputs": [
    {
     "name": "stdout",
     "output_type": "stream",
     "text": [
      "Array of 10 ones:\n",
      "[1. 1. 1. 1. 1. 1. 1. 1. 1. 1.]\n",
      "\n",
      "Array of integers 1 to 20:\n",
      "[ 1  2  3  4  5  6  7  8  9 10 11 12 13 14 15 16 17 18 19 20]\n",
      "\n",
      "5 x 5 matrix of ones with dtype int:\n",
      "[[1 1 1 1 1]\n",
      " [1 1 1 1 1]\n",
      " [1 1 1 1 1]\n",
      " [1 1 1 1 1]\n",
      " [1 1 1 1 1]]\n"
     ]
    }
   ],
   "source": [
    "# 1. Create an array of 10 ones\n",
    "array_of_ones = np.ones(10)\n",
    "print(\"Array of 10 ones:\")\n",
    "print(array_of_ones)\n",
    "\n",
    "# 2. Create an array of the integers 1 to 20\n",
    "array_1_to_20 = np.arange(1, 21)\n",
    "print(\"\\nArray of integers 1 to 20:\")\n",
    "print(array_1_to_20)\n",
    "\n",
    "# 3. Create a 5 x 5 matrix of ones with dtype int\n",
    "matrix_5x5_ones = np.ones((5, 5), dtype=int)\n",
    "print(\"\\n5 x 5 matrix of ones with dtype int:\")\n",
    "print(matrix_5x5_ones)"
   ]
  },
  {
   "cell_type": "markdown",
   "id": "f4d5f95c",
   "metadata": {},
   "source": [
    "## 2.2 \n",
    "Use numpy to:\n",
    "1. Create an 3D matrix of 3 x 3 x 3 full of random numbers drawn from a standard normal distribution (hint: `np.random.randn()`)\n",
    "2. Reshape the above array into shape (27,)"
   ]
  },
  {
   "cell_type": "code",
   "execution_count": 5,
   "id": "ac3df66e",
   "metadata": {},
   "outputs": [
    {
     "name": "stdout",
     "output_type": "stream",
     "text": [
      "3D matrix of shape 3 x 3 x 3 with random numbers:\n",
      "[[[-0.89247852  0.2904345   0.80355419]\n",
      "  [ 0.58152035  1.01112056 -0.67698956]\n",
      "  [ 0.8929459  -1.7264965   1.42850032]]\n",
      "\n",
      " [[-0.83880868  0.7367674   0.3107399 ]\n",
      "  [-0.89974432 -1.82600067 -0.94294402]\n",
      "  [ 1.10005068 -3.2231896   1.16998582]]\n",
      "\n",
      " [[ 0.67858981  1.57193181  1.57009982]\n",
      "  [-0.53806916 -2.38716115  0.45904339]\n",
      "  [-0.54803935  0.16914292 -0.17325049]]]\n",
      "\n",
      "Reshaped array with shape (27,):\n",
      "[-0.89247852  0.2904345   0.80355419  0.58152035  1.01112056 -0.67698956\n",
      "  0.8929459  -1.7264965   1.42850032 -0.83880868  0.7367674   0.3107399\n",
      " -0.89974432 -1.82600067 -0.94294402  1.10005068 -3.2231896   1.16998582\n",
      "  0.67858981  1.57193181  1.57009982 -0.53806916 -2.38716115  0.45904339\n",
      " -0.54803935  0.16914292 -0.17325049]\n"
     ]
    }
   ],
   "source": [
    "# 1. Create a 3D matrix of shape 3 x 3 x 3 with random numbers from a standard normal distribution\n",
    "matrix_3x3x3 = np.random.randn(3, 3, 3)\n",
    "print(\"3D matrix of shape 3 x 3 x 3 with random numbers:\")\n",
    "print(matrix_3x3x3)\n",
    "\n",
    "# 2. Reshape the above array into shape (27,)\n",
    "reshaped_array = matrix_3x3x3.reshape(27)\n",
    "print(\"\\nReshaped array with shape (27,):\")\n",
    "print(reshaped_array)"
   ]
  },
  {
   "cell_type": "markdown",
   "id": "5bbbbc97",
   "metadata": {},
   "source": [
    "# 2.3 \n",
    "\n",
    "Create an array of 20 linearly spaced numbers between 1 and 10."
   ]
  },
  {
   "cell_type": "code",
   "execution_count": 6,
   "id": "3304c495",
   "metadata": {},
   "outputs": [
    {
     "name": "stdout",
     "output_type": "stream",
     "text": [
      "Array of 20 linearly spaced numbers between 1 and 10:\n",
      "[ 1.          1.47368421  1.94736842  2.42105263  2.89473684  3.36842105\n",
      "  3.84210526  4.31578947  4.78947368  5.26315789  5.73684211  6.21052632\n",
      "  6.68421053  7.15789474  7.63157895  8.10526316  8.57894737  9.05263158\n",
      "  9.52631579 10.        ]\n"
     ]
    }
   ],
   "source": [
    "# Create an array of 20 linearly spaced numbers between 1 and 10\n",
    "linear_space_array = np.linspace(1, 10, 20)\n",
    "print(\"Array of 20 linearly spaced numbers between 1 and 10:\")\n",
    "print(linear_space_array)"
   ]
  },
  {
   "cell_type": "markdown",
   "id": "fee4622b",
   "metadata": {},
   "source": [
    "## 2.4\n",
    "\n",
    "Run the following code to create an array of shape 4 x 4 and then use indexing to produce the outputs shown below."
   ]
  },
  {
   "cell_type": "code",
   "execution_count": 7,
   "id": "ce54aa24",
   "metadata": {},
   "outputs": [],
   "source": [
    "import numpy as np\n",
    "a = np.arange(1, 26).reshape(5, -1)"
   ]
  },
  {
   "cell_type": "code",
   "execution_count": 10,
   "id": "9fb30ef8",
   "metadata": {},
   "outputs": [
    {
     "data": {
      "text/plain": [
       "20"
      ]
     },
     "execution_count": 10,
     "metadata": {},
     "output_type": "execute_result"
    }
   ],
   "source": [
    "20"
   ]
  },
  {
   "cell_type": "code",
   "execution_count": 11,
   "id": "e752079a",
   "metadata": {},
   "outputs": [
    {
     "name": "stdout",
     "output_type": "stream",
     "text": [
      "[[ 9 10]\n",
      " [14 15]\n",
      " [19 20]\n",
      " [24 25]]\n"
     ]
    }
   ],
   "source": [
    "subarray = a[1:, 3:]\n",
    "print(subarray)"
   ]
  },
  {
   "cell_type": "markdown",
   "id": "24c2d6c3",
   "metadata": {},
   "source": [
    "```python\n",
    "array([[ 9, 10],\n",
    "       [14, 15],\n",
    "       [19, 20],\n",
    "       [24, 25]])\n",
    "```"
   ]
  },
  {
   "cell_type": "code",
   "execution_count": 13,
   "id": "d86f1c2f",
   "metadata": {},
   "outputs": [
    {
     "name": "stdout",
     "output_type": "stream",
     "text": [
      "[ 6  7  8  9 10]\n"
     ]
    }
   ],
   "source": [
    "row_array = a[1, :]\n",
    "print(row_array)\n"
   ]
  },
  {
   "cell_type": "markdown",
   "id": "984bb786",
   "metadata": {},
   "source": [
    "```python\n",
    "array([ 6,  7,  8,  9, 10])\n",
    "```"
   ]
  },
  {
   "cell_type": "code",
   "execution_count": null,
   "id": "943ec85c",
   "metadata": {},
   "outputs": [],
   "source": [
    "# Code comes here"
   ]
  },
  {
   "cell_type": "markdown",
   "id": "a8e576e0",
   "metadata": {},
   "source": [
    "## 2.5 \n",
    "\n",
    "Calculate the sum of all the numbers in `a`."
   ]
  },
  {
   "cell_type": "code",
   "execution_count": 14,
   "id": "bd34b207",
   "metadata": {},
   "outputs": [
    {
     "name": "stdout",
     "output_type": "stream",
     "text": [
      "325\n"
     ]
    }
   ],
   "source": [
    "total_sum = np.sum(a)\n",
    "print(total_sum)"
   ]
  },
  {
   "cell_type": "markdown",
   "id": "50c3950b",
   "metadata": {},
   "source": [
    "## 2.6 \n",
    "\n",
    "Calculate the sum of each row in `a`."
   ]
  },
  {
   "cell_type": "code",
   "execution_count": 15,
   "id": "de620d7d",
   "metadata": {},
   "outputs": [
    {
     "name": "stdout",
     "output_type": "stream",
     "text": [
      "[ 15  40  65  90 115]\n"
     ]
    }
   ],
   "source": [
    "row_sums = np.sum(a, axis=1)\n",
    "print(row_sums)"
   ]
  },
  {
   "cell_type": "markdown",
   "id": "ea9b2c11",
   "metadata": {},
   "source": [
    "## 2.7 \n",
    "\n",
    "Extract all values of `a` greater than the mean of `a` (hint: use a boolean mask)."
   ]
  },
  {
   "cell_type": "code",
   "execution_count": 17,
   "id": "aef9b210",
   "metadata": {},
   "outputs": [
    {
     "name": "stdout",
     "output_type": "stream",
     "text": [
      "Mean value: 13.0\n",
      "Values greater than the mean:\n",
      "[14 15 16 17 18 19 20 21 22 23 24 25]\n"
     ]
    }
   ],
   "source": [
    "import numpy as np\n",
    "a = np.arange(1, 26).reshape(5, -1)\n",
    "\n",
    "# Calculate the mean of 'a'\n",
    "mean_value = np.mean(a)\n",
    "\n",
    "# Create a boolean mask for values greater than the mean\n",
    "mask = a > mean_value\n",
    "\n",
    "# Extract values using the boolean mask\n",
    "values_greater_than_mean = a[mask]\n",
    "\n",
    "print(\"Mean value:\", mean_value)\n",
    "print(\"Values greater than the mean:\")\n",
    "print(values_greater_than_mean)"
   ]
  },
  {
   "cell_type": "markdown",
   "id": "9c31a0e1",
   "metadata": {},
   "source": [
    "# Practicing Pandas"
   ]
  },
  {
   "cell_type": "markdown",
   "id": "61c04b0c",
   "metadata": {},
   "source": [
    "## 2.8\n",
    "\n",
    "In this set of practice exercises we'll be investigating the carbon footprint of different foods. \n",
    "\n",
    "We'll be leveraging a dataset compiled by [Kasia Kulma](https://r-tastic.co.uk/post/from-messy-to-tidy/) and contributed to [R's Tidy Tuesday project](https://github.com/rfordatascience/tidytuesday).\n",
    "\n",
    "Start by importing pandas with the alias `pd`."
   ]
  },
  {
   "cell_type": "code",
   "execution_count": 18,
   "id": "8b9ede0d",
   "metadata": {},
   "outputs": [],
   "source": [
    "import pandas as pd"
   ]
  },
  {
   "cell_type": "markdown",
   "id": "3d39a2d7",
   "metadata": {},
   "source": [
    "## 2.9 \n",
    "\n",
    "The dataset we'll be working with has the following columns:\n",
    "\n",
    "|column      |description |\n",
    "|:-------------|:-----------|\n",
    "|country       | Country Name |\n",
    "|food_category | Food Category |\n",
    "|consumption   | Consumption (kg/person/year) |\n",
    "|co2_emmission | Co2 Emission (Kg CO2/person/year) |\n",
    "\n",
    "\n",
    "Import the dataset as a dataframe named `df` from this url: <https://raw.githubusercontent.com/rfordatascience/tidytuesday/master/data/2020/2020-02-18/food_consumption.csv>"
   ]
  },
  {
   "cell_type": "code",
   "execution_count": 20,
   "id": "b39d8ebb",
   "metadata": {},
   "outputs": [
    {
     "name": "stdout",
     "output_type": "stream",
     "text": [
      "     country food_category  consumption  co2_emmission\n",
      "0  Argentina          Pork        10.51          37.20\n",
      "1  Argentina       Poultry        38.66          41.53\n",
      "2  Argentina          Beef        55.48        1712.00\n",
      "3  Argentina   Lamb & Goat         1.56          54.63\n",
      "4  Argentina          Fish         4.36           6.96\n",
      "\n",
      "Columns in the DataFrame:\n",
      "Index(['country', 'food_category', 'consumption', 'co2_emmission'], dtype='object')\n"
     ]
    }
   ],
   "source": [
    "\n",
    "\n",
    "# URL of the dataset\n",
    "url = \"https://raw.githubusercontent.com/rfordatascience/tidytuesday/master/data/2020/2020-02-18/food_consumption.csv\"\n",
    "\n",
    "# Import the dataset as a DataFrame\n",
    "df = pd.read_csv(url)\n",
    "\n",
    "# Display the first few rows of the DataFrame and the columns for verification\n",
    "print(df.head())\n",
    "print(\"\\nColumns in the DataFrame:\")\n",
    "print(df.columns)"
   ]
  },
  {
   "cell_type": "markdown",
   "id": "f903c8a1",
   "metadata": {},
   "source": [
    "## 2.10 \n",
    "\n",
    "How many rows and columns are there in the dataframe?"
   ]
  },
  {
   "cell_type": "code",
   "execution_count": 21,
   "id": "39cd4f89",
   "metadata": {},
   "outputs": [
    {
     "name": "stdout",
     "output_type": "stream",
     "text": [
      "The DataFrame has 1430 rows and 4 columns.\n"
     ]
    }
   ],
   "source": [
    "# URL of the dataset\n",
    "url = \"https://raw.githubusercontent.com/rfordatascience/tidytuesday/master/data/2020/2020-02-18/food_consumption.csv\"\n",
    "\n",
    "# Import the dataset as a DataFrame\n",
    "df = pd.read_csv(url)\n",
    "\n",
    "# Get the number of rows and columns\n",
    "num_rows, num_columns = df.shape\n",
    "\n",
    "print(f\"The DataFrame has {num_rows} rows and {num_columns} columns.\")"
   ]
  },
  {
   "cell_type": "markdown",
   "id": "8f0b87b0",
   "metadata": {},
   "source": [
    "## 2.11\n",
    "\n",
    "What is the mean `co2_emission` of the whole dataset?"
   ]
  },
  {
   "cell_type": "code",
   "execution_count": 22,
   "id": "8a8b3edc",
   "metadata": {},
   "outputs": [
    {
     "name": "stdout",
     "output_type": "stream",
     "text": [
      "The mean CO2 emission of the whole dataset is: 74.38 kg CO2/person/year\n"
     ]
    }
   ],
   "source": [
    "# URL of the dataset\n",
    "url = \"https://raw.githubusercontent.com/rfordatascience/tidytuesday/master/data/2020/2020-02-18/food_consumption.csv\"\n",
    "\n",
    "# Import the dataset as a DataFrame\n",
    "df = pd.read_csv(url)\n",
    "\n",
    "# Calculate the mean of the 'co2_emmission' column\n",
    "mean_co2_emission = df['co2_emmission'].mean()\n",
    "\n",
    "print(f\"The mean CO2 emission of the whole dataset is: {mean_co2_emission:.2f} kg CO2/person/year\")"
   ]
  },
  {
   "cell_type": "markdown",
   "id": "1acb3cc5",
   "metadata": {},
   "source": [
    "## 2.12\n",
    "\n",
    "What is the maximum `co2_emmission` in the dataset and which food type and country does it belong to?"
   ]
  },
  {
   "cell_type": "code",
   "execution_count": 23,
   "id": "04f58ddd",
   "metadata": {},
   "outputs": [
    {
     "name": "stdout",
     "output_type": "stream",
     "text": [
      "The maximum CO2 emission in the dataset is: 1712.0 kg CO2/person/year\n",
      "It belongs to the food type: Beef in country: Argentina.\n"
     ]
    }
   ],
   "source": [
    "df = pd.read_csv(url)\n",
    "\n",
    "# Find the row with the maximum co2_emmission\n",
    "max_co2_row = df.loc[df['co2_emmission'].idxmax()]\n",
    "\n",
    "# Extract the maximum co2_emmission, food category, and country\n",
    "max_co2_emission = max_co2_row['co2_emmission']\n",
    "food_category = max_co2_row['food_category']\n",
    "country = max_co2_row['country']\n",
    "\n",
    "print(f\"The maximum CO2 emission in the dataset is: {max_co2_emission} kg CO2/person/year\")\n",
    "print(f\"It belongs to the food type: {food_category} in country: {country}.\")"
   ]
  },
  {
   "cell_type": "markdown",
   "id": "68ba75e4",
   "metadata": {},
   "source": [
    "## 2.13\n",
    "\n",
    "How many countries produce more than 1000 Kg CO2/person/year for at least one food type?"
   ]
  },
  {
   "cell_type": "code",
   "execution_count": 24,
   "id": "0dac7b68",
   "metadata": {},
   "outputs": [
    {
     "name": "stdout",
     "output_type": "stream",
     "text": [
      "The number of countries producing more than 1000 kg CO2/person/year for at least one food type is: 5\n"
     ]
    }
   ],
   "source": [
    "df = pd.read_csv(url)\n",
    "\n",
    "# Filter countries with CO2 emissions greater than 1000 kg/person/year\n",
    "high_emission_countries = df[df['co2_emmission'] > 1000]['country'].unique()\n",
    "\n",
    "# Count the number of unique countries\n",
    "num_countries = len(high_emission_countries)\n",
    "\n",
    "print(f\"The number of countries producing more than 1000 kg CO2/person/year for at least one food type is: {num_countries}\")"
   ]
  },
  {
   "cell_type": "markdown",
   "id": "507fe1cd",
   "metadata": {},
   "source": [
    "## 2.14\n",
    "\n",
    "Which country consumes the least amount of beef per person per year?\n"
   ]
  },
  {
   "cell_type": "code",
   "execution_count": 25,
   "id": "e4bf7f60",
   "metadata": {},
   "outputs": [
    {
     "name": "stdout",
     "output_type": "stream",
     "text": [
      "The country that consumes the least amount of beef per person per year is: Liberia with 0.7799999999999999 kg/person/year.\n"
     ]
    }
   ],
   "source": [
    "df = pd.read_csv(url)\n",
    "\n",
    "# Filter for beef consumption\n",
    "beef_consumption = df[df['food_category'] == 'Beef']\n",
    "\n",
    "# Find the country with the minimum beef consumption\n",
    "min_beef_row = beef_consumption.loc[beef_consumption['consumption'].idxmin()]\n",
    "\n",
    "# Extract information\n",
    "min_beef_consumption = min_beef_row['consumption']\n",
    "country = min_beef_row['country']\n",
    "\n",
    "print(f\"The country that consumes the least amount of beef per person per year is: {country} with {min_beef_consumption} kg/person/year.\")"
   ]
  },
  {
   "cell_type": "markdown",
   "id": "e40cbc79",
   "metadata": {},
   "source": [
    "## 2.15\n",
    "\n",
    "What is the total emissions of all the meat products (Pork, Poultry, Fish, Lamb & Goat, Beef) in the dataset combined?"
   ]
  },
  {
   "cell_type": "code",
   "execution_count": 27,
   "id": "932f7976",
   "metadata": {},
   "outputs": [
    {
     "name": "stdout",
     "output_type": "stream",
     "text": [
      "The total emissions of all meat products in the dataset combined is: 74441.13 kg CO2/person/year.\n"
     ]
    }
   ],
   "source": [
    "df = pd.read_csv(url)\n",
    "\n",
    "# List of meat categories to consider\n",
    "meat_categories = ['Pork', 'Poultry', 'Fish', 'Lamb & Goat', 'Beef']\n",
    "\n",
    "# Filter for meat products and calculate total emissions\n",
    "total_meat_emissions = df[df['food_category'].isin(meat_categories)]['co2_emmission'].sum()\n",
    "\n",
    "print(f\"The total emissions of all meat products in the dataset combined is: {total_meat_emissions} kg CO2/person/year.\")\n"
   ]
  },
  {
   "cell_type": "markdown",
   "id": "2e01f760",
   "metadata": {},
   "source": [
    "# 2.16 \n",
    "\n",
    "What is the total emissions of all other (non-meat) products in the dataset combined?"
   ]
  },
  {
   "cell_type": "code",
   "execution_count": 30,
   "id": "6d0c8ac4",
   "metadata": {},
   "outputs": [
    {
     "name": "stdout",
     "output_type": "stream",
     "text": [
      "The total emissions of all non-meat products in the dataset combined is: 31927.98 kg CO2/person/year.\n"
     ]
    }
   ],
   "source": [
    "df = pd.read_csv(url)\n",
    "\n",
    "meat_categories = ['Pork', 'Poultry', 'Fish', 'Lamb & Goat', 'Beef']\n",
    "\n",
    "total_non_meat_emissions = df[~df['food_category'].isin(meat_categories)]['co2_emmission'].sum()\n",
    "\n",
    "print(f\"The total emissions of all non-meat products in the dataset combined is: {total_non_meat_emissions} kg CO2/person/year.\")"
   ]
  },
  {
   "cell_type": "markdown",
   "id": "24d092f5",
   "metadata": {},
   "source": [
    "## Well done!\n",
    "\n",
    "That's all from this week, if you have any questions, do not forget to ask the TAs for assistance."
   ]
  }
 ],
 "metadata": {
  "kernelspec": {
   "display_name": "Python 3 (ipykernel)",
   "language": "python",
   "name": "python3"
  },
  "language_info": {
   "codemirror_mode": {
    "name": "ipython",
    "version": 3
   },
   "file_extension": ".py",
   "mimetype": "text/x-python",
   "name": "python",
   "nbconvert_exporter": "python",
   "pygments_lexer": "ipython3",
   "version": "3.9.18"
  },
  "vscode": {
   "interpreter": {
    "hash": "a62a218f45948969006c944db2ca1c519af623da5e08f864ae6aafcacb945df1"
   }
  }
 },
 "nbformat": 4,
 "nbformat_minor": 5
}
